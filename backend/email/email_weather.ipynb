{
 "cells": [
  {
   "cell_type": "code",
   "execution_count": 14,
   "metadata": {},
   "outputs": [],
   "source": [
    "import os\n",
    "import email_functions as ef\n",
    "from IPython.display import HTML"
   ]
  },
  {
   "cell_type": "code",
   "execution_count": 15,
   "metadata": {},
   "outputs": [],
   "source": [
    "# Define the function to send the database file via email\n",
    "# def send_email(subject, body, attachment):\n",
    "\n",
    "# SMTP_SERVER = 'smtp.gmail.com' #Email Server (don't change!)\n",
    "# SMTP_PORT = 587 #Server Port (don't change!)\n",
    "# GMAIL_USERNAME = 'noreply.starryeyes@gmail.com' #change this to match your gmail account\n",
    "# GMAIL_PASSWORD = 'dgur tkpe lolq kdlq' #change this to match your gmail app-password"
   ]
  },
  {
   "cell_type": "code",
   "execution_count": 16,
   "metadata": {},
   "outputs": [],
   "source": [
    "#Email Variabeln\n",
    "alex = 'alex.bura@students.fhnw.ch'\n",
    "silas = 'silas.haab@students.fhnw.ch'\n",
    "fredi = 'fredrik.lennstroem@students.fhnw.ch'\n",
    "bild = 'C:/Users/lenns/OneDrive - FHNW/Projekt_Geodatenportal/Logo_StarryEyes_Hatchful_V1/email-banner.png'\n",
    "\n",
    "emailSubject = \"Bin öppis am Probiere. -Fredi\"\n",
    "emailContent = f\"Sehr geehreter Herr Fred\\nIch schicek ein Test email.\\n{bild}\"\n",
    "\n",
    "logo_path = 'img/email-banner.png'\n",
    "abdeckung_path = 'img/abdeckung.jpg'\n",
    "\n",
    "lat = 47.13881\n",
    "long = 7.91573\n",
    "E = 2636192\n",
    "N = 1220979"
   ]
  },
  {
   "cell_type": "code",
   "execution_count": 17,
   "metadata": {},
   "outputs": [],
   "source": [
    "# Meteo-API abfragen\n",
    "\n",
    "cloud = ef.openweather_hour(lat, long, 1)"
   ]
  },
  {
   "cell_type": "code",
   "execution_count": 18,
   "metadata": {},
   "outputs": [],
   "source": [
    "#Hier noch Tabelle auf aktuelles Datum/Uhrzeit anpassen"
   ]
  },
  {
   "cell_type": "code",
   "execution_count": 19,
   "metadata": {},
   "outputs": [],
   "source": [
    "# wandelt Pandas-Tabelle in html-tabelle um\n",
    "cloud_html = cloud.head(11).to_html()"
   ]
  },
  {
   "cell_type": "code",
   "execution_count": 20,
   "metadata": {},
   "outputs": [],
   "source": [
    "logo_64 = ef.img2base64(logo_path)\n",
    "logo_cid = os.path.basename(logo_path)\n",
    "\n",
    "abdeckung_64 = ef.img2base64(abdeckung_path)\n",
    "abdeckung_cid = os.path.basename(abdeckung_path)"
   ]
  },
  {
   "cell_type": "code",
   "execution_count": 21,
   "metadata": {},
   "outputs": [],
   "source": [
    "html_text = f\"\"\"\n",
    "<!DOCTYPE html>\n",
    "<html>\n",
    "<head>\n",
    "    <title>Email</title>\n",
    "</head>\n",
    "<body>\n",
    "    <div>\n",
    "        <img src='data:image/jpeg;base64,{logo_64}' alt='{logo_cid}'>\n",
    "        <h2>Bestätigung Abo</h2>\n",
    "    </div>\n",
    "    <div>\n",
    "        <table>\n",
    "            <th>Position:</th>\n",
    "            <tr>\n",
    "                <td><b>LV95:</b></td><td><b>WGS84:</b></td>\n",
    "            </tr>\n",
    "            <tr>\n",
    "                <td>E: {E}<br>N: {N}</td><td>lat: {lat}<br>long: {long}</td>\n",
    "            </tr>\n",
    "        </table>\n",
    "    </div>\n",
    "    <div>\n",
    "        <hr>\n",
    "        <h3>Abdeckung am Horizont</h3>\n",
    "        <img src='data:image/jpeg;base64,{abdeckung_64}' alt='{abdeckung_cid}'>\n",
    "    </div>\n",
    "    <div>\n",
    "        <h3>Aktuelle Wolkenprognose:</h3>\n",
    "            {cloud_html}\n",
    "    </div>\n",
    "\n",
    "</body>\n",
    "</html>\n",
    "\n",
    "\"\"\""
   ]
  },
  {
   "cell_type": "code",
   "execution_count": 22,
   "metadata": {},
   "outputs": [
    {
     "name": "stdout",
     "output_type": "stream",
     "text": [
      "Email sent\n"
     ]
    }
   ],
   "source": [
    "ef.Emailer().send_email(fredi, emailSubject, html_text)"
   ]
  }
 ],
 "metadata": {
  "kernelspec": {
   "display_name": "fs24_39",
   "language": "python",
   "name": "python3"
  },
  "language_info": {
   "codemirror_mode": {
    "name": "ipython",
    "version": 3
   },
   "file_extension": ".py",
   "mimetype": "text/x-python",
   "name": "python",
   "nbconvert_exporter": "python",
   "pygments_lexer": "ipython3",
   "version": "3.9.18"
  }
 },
 "nbformat": 4,
 "nbformat_minor": 2
}
