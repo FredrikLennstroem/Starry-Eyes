{
 "cells": [
  {
   "cell_type": "code",
   "execution_count": 1,
   "metadata": {},
   "outputs": [],
   "source": [
    "import datetime\n",
    "import subprocess"
   ]
  },
  {
   "cell_type": "code",
   "execution_count": 23,
   "metadata": {},
   "outputs": [],
   "source": [
    "ROOT_PROJ = 'C:/_Schule/FHNW/6/GIS/Projekt/FS24_GIS'\n",
    "DEM = f'{ROOT_PROJ}/backend/sun/59_DEM.tiff'\n",
    "\n",
    "DATE = str(datetime.date.today())"
   ]
  },
  {
   "cell_type": "code",
   "execution_count": 24,
   "metadata": {},
   "outputs": [],
   "source": [
    "location = '47.41117, 8.68481'\n",
    "\n",
    "command = [\"tppss\", \"day\", \"-m\", DEM, \"-j\", DATE, \"-p\", location]\n",
    "\n",
    "res = subprocess.check_output(command, universal_newlines=True)"
   ]
  },
  {
   "cell_type": "code",
   "execution_count": 25,
   "metadata": {},
   "outputs": [
    {
     "data": {
      "text/plain": [
       "'20:15:00'"
      ]
     },
     "execution_count": 25,
     "metadata": {},
     "output_type": "execute_result"
    }
   ],
   "source": [
    "sunset = res.split('\\n')[3].split(' ')[-1][:-6]\n",
    "sunset"
   ]
  },
  {
   "cell_type": "code",
   "execution_count": 8,
   "metadata": {},
   "outputs": [
    {
     "name": "stdout",
     "output_type": "stream",
     "text": [
      "Timezone set to local: 'W. Europe Daylight Time'\n",
      "Compute horizon...\n",
      "Compute sunrise / sunset...\n",
      "Sunrise: 2024-04-22 06:41:00+02:00 / Sunset: 2024-04-22 18:59:00+02:00\n"
     ]
    }
   ],
   "source": [
    "!tppss day -m \"{DEM}\" -j \"{DATE}\" -p \"{location}\""
   ]
  }
 ],
 "metadata": {
  "kernelspec": {
   "display_name": "fs24_39",
   "language": "python",
   "name": "python3"
  },
  "language_info": {
   "codemirror_mode": {
    "name": "ipython",
    "version": 3
   },
   "file_extension": ".py",
   "mimetype": "text/x-python",
   "name": "python",
   "nbconvert_exporter": "python",
   "pygments_lexer": "ipython3",
   "version": "3.9.18"
  }
 },
 "nbformat": 4,
 "nbformat_minor": 2
}
